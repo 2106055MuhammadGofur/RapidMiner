{
  "nbformat": 4,
  "nbformat_minor": 0,
  "metadata": {
    "colab": {
      "provenance": []
    },
    "kernelspec": {
      "name": "python3",
      "display_name": "Python 3"
    },
    "language_info": {
      "name": "python"
    }
  },
  "cells": [
    {
      "cell_type": "code",
      "execution_count": 11,
      "metadata": {
        "colab": {
          "base_uri": "https://localhost:8080/"
        },
        "id": "AntV6vij2CnQ",
        "outputId": "37d1c7b2-a317-48b1-e25c-526cdef6bdc3"
      },
      "outputs": [
        {
          "output_type": "stream",
          "name": "stdout",
          "text": [
            "  Gender              Race  Birth_Year Marital_Status  Years_on_Internet  \\\n",
            "0      M             White        1972              M                  8   \n",
            "1      M          Hispanic        1981              S                 14   \n",
            "2      F  African American        1977              S                  6   \n",
            "3      F             White        1961              D                  8   \n",
            "4      M             White        1954              M                  2   \n",
            "\n",
            "   Hours_Per_Day  Preferred_Browser Preferred_Search_Engine Preferred_Email  \\\n",
            "0              1            Firefox                  Google           Yahoo   \n",
            "1              2             Chrome                  Google         Hotmail   \n",
            "2              2            Firefox                   Yahoo           Yahoo   \n",
            "3              6            Firefox                  Google         Hotmail   \n",
            "4              3  Internet Explorer                    Bing         Hotmail   \n",
            "\n",
            "  Read_News Online_Shopping Online_Gaming Facebook Twitter  \\\n",
            "0         Y               N             N        Y       N   \n",
            "1         Y               N             N        Y       N   \n",
            "2         Y               Y           NaN        Y       N   \n",
            "3         N               Y             N        N       Y   \n",
            "4         Y               Y             N        Y       N   \n",
            "\n",
            "  Other_Social_Network  \n",
            "0                  NaN  \n",
            "1                  NaN  \n",
            "2                  NaN  \n",
            "3                  NaN  \n",
            "4                  NaN  \n",
            "3\n",
            "None\n",
            "0\n",
            "1\n",
            "None\n",
            "0\n",
            "2\n",
            "None\n",
            "0\n",
            "7\n",
            "None\n",
            "0\n",
            "N    9\n",
            "Y    2\n",
            "Name: Twitter, dtype: int64\n"
          ]
        }
      ],
      "source": [
        "import pandas as pd\n",
        "\n",
        "dataset = pd.read_csv('InternetUser.csv')\n",
        "\n",
        "print(dataset.head())\n",
        "print(dataset['Online_Gaming'].isna().sum())\n",
        "\n",
        "print(dataset['Online_Gaming'].fillna('N', inplace=True))\n",
        "\n",
        "print(dataset['Online_Gaming'].isna().sum())\n",
        "\n",
        "print(dataset['Read_News'].isna().sum())\n",
        "\n",
        "print(dataset['Read_News'].fillna('N', inplace=True))\n",
        "\n",
        "print(dataset['Read_News'].isna().sum())\n",
        "\n",
        "print(dataset['Online_Shopping'].isna().sum())\n",
        "\n",
        "print(dataset['Online_Shopping'].fillna('N', inplace=True))\n",
        "\n",
        "print(dataset['Online_Shopping'].isna().sum())\n",
        "\n",
        "print(dataset['Other_Social_Network'].isna().sum())\n",
        "\n",
        "print(dataset['Other_Social_Network'].fillna('N', inplace=True))\n",
        "\n",
        "print(dataset['Other_Social_Network'].isna().sum())\n",
        "\n",
        "dataset['Twitter'].replace(['99'],['N'], inplace=True)\n",
        "\n",
        "print(dataset['Twitter'].value_counts())\n"
      ]
    },
    {
      "cell_type": "code",
      "source": [],
      "metadata": {
        "id": "OAnW_hN-5IEi"
      },
      "execution_count": null,
      "outputs": []
    }
  ]
}